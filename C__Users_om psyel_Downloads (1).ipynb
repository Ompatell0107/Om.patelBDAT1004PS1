{
 "cells": [
  {
   "cell_type": "markdown",
   "id": "edba4891",
   "metadata": {},
   "source": [
    "# Question 1\n"
   ]
  },
  {
   "cell_type": "markdown",
   "id": "4ebd76bf",
   "metadata": {},
   "source": [
    "## What data type is each of the following (evaluate where necessary)?\n"
   ]
  },
  {
   "cell_type": "code",
   "execution_count": 1,
   "id": "78950b06",
   "metadata": {},
   "outputs": [
    {
     "name": "stdout",
     "output_type": "stream",
     "text": [
      "<class 'int'>\n"
     ]
    }
   ],
   "source": [
    "x = 5\n",
    "print(type(x))"
   ]
  },
  {
   "cell_type": "code",
   "execution_count": 2,
   "id": "c722a3f7",
   "metadata": {},
   "outputs": [
    {
     "name": "stdout",
     "output_type": "stream",
     "text": [
      "<class 'float'>\n"
     ]
    }
   ],
   "source": [
    "y=5.0\n",
    "print(type(y))"
   ]
  },
  {
   "cell_type": "code",
   "execution_count": 3,
   "id": "82a6d604",
   "metadata": {},
   "outputs": [
    {
     "name": "stdout",
     "output_type": "stream",
     "text": [
      "<class 'bool'>\n"
     ]
    }
   ],
   "source": [
    "z= 5>1\n",
    "print(type(z))"
   ]
  },
  {
   "cell_type": "code",
   "execution_count": 4,
   "id": "d9809d70",
   "metadata": {},
   "outputs": [
    {
     "name": "stdout",
     "output_type": "stream",
     "text": [
      "<class 'str'>\n"
     ]
    }
   ],
   "source": [
    "a='5'\n",
    "print(type(a))"
   ]
  },
  {
   "cell_type": "code",
   "execution_count": 5,
   "id": "0221f1b1",
   "metadata": {},
   "outputs": [
    {
     "name": "stdout",
     "output_type": "stream",
     "text": [
      "<class 'int'>\n"
     ]
    }
   ],
   "source": [
    "b=5 * 2\n",
    "print(type(b))"
   ]
  },
  {
   "cell_type": "code",
   "execution_count": 6,
   "id": "5f3797e5",
   "metadata": {},
   "outputs": [
    {
     "name": "stdout",
     "output_type": "stream",
     "text": [
      "<class 'str'>\n"
     ]
    }
   ],
   "source": [
    "c='5' * 2\n",
    "print(type(c))"
   ]
  },
  {
   "cell_type": "code",
   "execution_count": 7,
   "id": "d13af71f",
   "metadata": {},
   "outputs": [
    {
     "name": "stdout",
     "output_type": "stream",
     "text": [
      "<class 'str'>\n"
     ]
    }
   ],
   "source": [
    "d='5' + '2'\n",
    "print(type(d))"
   ]
  },
  {
   "cell_type": "code",
   "execution_count": 8,
   "id": "bf9a374d",
   "metadata": {},
   "outputs": [
    {
     "name": "stdout",
     "output_type": "stream",
     "text": [
      "<class 'float'>\n"
     ]
    }
   ],
   "source": [
    "e=5 / 2\n",
    "print(type(e))"
   ]
  },
  {
   "cell_type": "code",
   "execution_count": 9,
   "id": "2b4583e7",
   "metadata": {},
   "outputs": [
    {
     "name": "stdout",
     "output_type": "stream",
     "text": [
      "<class 'int'>\n"
     ]
    }
   ],
   "source": [
    "f=5 % 2\n",
    "print(type(f))"
   ]
  },
  {
   "cell_type": "code",
   "execution_count": 10,
   "id": "01ee7660",
   "metadata": {},
   "outputs": [
    {
     "name": "stdout",
     "output_type": "stream",
     "text": [
      "<class 'set'>\n"
     ]
    }
   ],
   "source": [
    "g={5, 2, 1}\n",
    "print(type(g))"
   ]
  },
  {
   "cell_type": "code",
   "execution_count": 11,
   "id": "0b2e7d62",
   "metadata": {},
   "outputs": [
    {
     "name": "stdout",
     "output_type": "stream",
     "text": [
      "<class 'bool'>\n"
     ]
    }
   ],
   "source": [
    "h=5 == 3\n",
    "print(type(h))"
   ]
  },
  {
   "cell_type": "code",
   "execution_count": 13,
   "id": "5ba248a3",
   "metadata": {},
   "outputs": [
    {
     "name": "stdout",
     "output_type": "stream",
     "text": [
      "<class 'float'>\n"
     ]
    }
   ],
   "source": [
    "# Import math Library\n",
    "import math\n",
    "print (type(math.pi))"
   ]
  },
  {
   "cell_type": "markdown",
   "id": "a70bd71f",
   "metadata": {},
   "source": [
    "# Question 2\n"
   ]
  },
  {
   "cell_type": "markdown",
   "id": "db2b5435",
   "metadata": {},
   "source": [
    "## Write (and evaluate) python expressions that answer these questions: a.How many letters are there in 'Supercalifragilisticexpialidocious'?"
   ]
  },
  {
   "cell_type": "code",
   "execution_count": 14,
   "id": "5bffcf7d",
   "metadata": {},
   "outputs": [
    {
     "data": {
      "text/plain": [
       "34"
      ]
     },
     "execution_count": 14,
     "metadata": {},
     "output_type": "execute_result"
    }
   ],
   "source": [
    "len('Supercalifragilisticexpialidocious')"
   ]
  },
  {
   "cell_type": "markdown",
   "id": "6702f9a2",
   "metadata": {},
   "source": [
    "## b. Does 'Supercalifragilisticexpialidocious' contain 'ice' as a substring?"
   ]
  },
  {
   "cell_type": "code",
   "execution_count": 15,
   "id": "14e788ee",
   "metadata": {},
   "outputs": [
    {
     "data": {
      "text/plain": [
       "True"
      ]
     },
     "execution_count": 15,
     "metadata": {},
     "output_type": "execute_result"
    }
   ],
   "source": [
    "'ice' in 'Supercalifragilisticexpialidocious'"
   ]
  },
  {
   "cell_type": "markdown",
   "id": "32064c21",
   "metadata": {},
   "source": [
    "## c. Which of the following words is the longest: Supercalifragilisticexpialidocious, Honorificabilitudinitatibus, or Bababadalgharaghtakamminarronnkonn? "
   ]
  },
  {
   "cell_type": "code",
   "execution_count": 17,
   "id": "9909d413",
   "metadata": {},
   "outputs": [],
   "source": [
    "sen = ['Supercalifragilisticexpialidocious','Honorificabilitudinitatibus','Bababadalgharaghtakamminarronnkonn?']\n"
   ]
  },
  {
   "cell_type": "code",
   "execution_count": 18,
   "id": "3e2f6789",
   "metadata": {},
   "outputs": [
    {
     "data": {
      "text/plain": [
       "'Supercalifragilisticexpialidocious'"
      ]
     },
     "execution_count": 18,
     "metadata": {},
     "output_type": "execute_result"
    }
   ],
   "source": [
    "max(sen)"
   ]
  },
  {
   "cell_type": "markdown",
   "id": "5cfea6ce",
   "metadata": {},
   "source": [
    "# d. Which composer comes first in the dictionary: 'Berlioz', 'Borodin', 'Brian','Bartok', 'Bellini', 'Buxtehude', 'Bernstein'. Which one comes last?\n"
   ]
  },
  {
   "cell_type": "code",
   "execution_count": 19,
   "id": "18b7869c",
   "metadata": {},
   "outputs": [
    {
     "data": {
      "text/plain": [
       "['Bartok', 'Bellini', 'Berlioz', 'Bernstein', 'Borodin', 'Brian', 'Buxtehude']"
      ]
     },
     "execution_count": 19,
     "metadata": {},
     "output_type": "execute_result"
    }
   ],
   "source": [
    "myList = ['Berlioz', 'Borodin', 'Brian','Bartok', 'Bellini', 'Buxtehude', 'Bernstein']\n",
    "myList.sort()\n",
    "myList"
   ]
  },
  {
   "cell_type": "code",
   "execution_count": 20,
   "id": "2c6228bf",
   "metadata": {},
   "outputs": [
    {
     "name": "stdout",
     "output_type": "stream",
     "text": [
      "Bartok\n"
     ]
    }
   ],
   "source": [
    "#First in list\n",
    "print (myList[0])"
   ]
  },
  {
   "cell_type": "code",
   "execution_count": 21,
   "id": "e1135082",
   "metadata": {},
   "outputs": [
    {
     "name": "stdout",
     "output_type": "stream",
     "text": [
      "Buxtehude\n"
     ]
    }
   ],
   "source": [
    "#Last in list\n",
    "print(myList[-1])"
   ]
  },
  {
   "cell_type": "markdown",
   "id": "7afcb845",
   "metadata": {},
   "source": [
    "# Question 3"
   ]
  },
  {
   "cell_type": "markdown",
   "id": "2b930ba4",
   "metadata": {},
   "source": [
    "## Implement function triangleArea(a,b,c) that takes as input the lengths of the 3 sides of a triangle and returns the area of the triangle. By Heron's formula, the area of a triangle with side lengths a, b, and c is s(s - a)(s -b)(s -c), where s = (a+b+c)/2. "
   ]
  },
  {
   "cell_type": "code",
   "execution_count": 25,
   "id": "26715891",
   "metadata": {},
   "outputs": [],
   "source": [
    "def triangleArea(a,b,c):\n",
    "    a1 = (a +b +c) / 2\n",
    "    a2 = ( a1* ((a1-a)* (a1-b) *(a1- c)))**.5\n",
    "    return a2"
   ]
  },
  {
   "cell_type": "code",
   "execution_count": 26,
   "id": "2b057f21",
   "metadata": {},
   "outputs": [
    {
     "data": {
      "text/plain": [
       "1.7320508075688772"
      ]
     },
     "execution_count": 26,
     "metadata": {},
     "output_type": "execute_result"
    }
   ],
   "source": [
    "triangleArea(2,2,2)"
   ]
  },
  {
   "cell_type": "markdown",
   "id": "2fb367be",
   "metadata": {},
   "source": [
    "# Question 4"
   ]
  },
  {
   "cell_type": "markdown",
   "id": "0a1bbe3e",
   "metadata": {},
   "source": [
    "## Write a program in python to separate odd and even integers in separate arrays. Go to the editor "
   ]
  },
  {
   "cell_type": "code",
   "execution_count": 27,
   "id": "56dbcac7",
   "metadata": {},
   "outputs": [
    {
     "name": "stdout",
     "output_type": "stream",
     "text": [
      "Input the number of elements to be stored in the array :5\n",
      "Input 5 elements in the array :\n",
      "25\n",
      "47\n",
      "42\n",
      "56\n",
      "32\n",
      "The Even elements are: [42, 56, 32]\n",
      "The Odd elements are : [25, 47]\n"
     ]
    }
   ],
   "source": [
    "def separate_array(A): \n",
    "   elist = [] \n",
    "   olist = [] \n",
    "   for i in A: \n",
    "      if (i % 2 == 0): \n",
    "         elist.append(i) \n",
    "      else: \n",
    "         olist.append(i) \n",
    "   print(\"The Even elements are:\", elist) \n",
    "   print(\"The Odd elements are :\", olist)  \n",
    "A=list()\n",
    "n=int(input(\"Input the number of elements to be stored in the array :\"))\n",
    "print(\"Input\", n ,\"elements in the array :\")\n",
    "for i in range(int(n)):\n",
    "   k=int(input(\"\"))\n",
    "   A.append(k)\n",
    "separate_array(A) "
   ]
  },
  {
   "cell_type": "markdown",
   "id": "4f147b46",
   "metadata": {},
   "source": [
    "# Question 5"
   ]
  },
  {
   "cell_type": "markdown",
   "id": "15b58850",
   "metadata": {},
   "source": [
    "## a. Write a function inside(x,y,x1,y1,x2,y2) that returns True or False depending on whether the point (x,y) lies in the rectangle with lower left corner (x1,y1) and upper right corner (x2,y2)."
   ]
  },
  {
   "cell_type": "code",
   "execution_count": 28,
   "id": "cb28127e",
   "metadata": {},
   "outputs": [],
   "source": [
    "def inside (x,y,x1,y1,x2,y2):\n",
    "    if (x >= x1 and x <= x2) and (y >= y1 and y <= y2):\n",
    "        return True\n",
    "    else:\n",
    "        return False"
   ]
  },
  {
   "cell_type": "code",
   "execution_count": 29,
   "id": "a3d2f1ea",
   "metadata": {},
   "outputs": [
    {
     "data": {
      "text/plain": [
       "True"
      ]
     },
     "execution_count": 29,
     "metadata": {},
     "output_type": "execute_result"
    }
   ],
   "source": [
    " inside(1,1,0,0,2,3)"
   ]
  },
  {
   "cell_type": "code",
   "execution_count": 30,
   "id": "cf30f920",
   "metadata": {},
   "outputs": [
    {
     "data": {
      "text/plain": [
       "False"
      ]
     },
     "execution_count": 30,
     "metadata": {},
     "output_type": "execute_result"
    }
   ],
   "source": [
    "inside(-1,-1,0,0,2,3)"
   ]
  },
  {
   "cell_type": "markdown",
   "id": "5eba1f19",
   "metadata": {},
   "source": [
    "## b. Use function inside() from part a. to write an expression that tests whether the point (1,1) lies in both of the following rectangles: one with lower left corner (0.3, 0.5) and upper right corner (1.1, 0.7) and the other with lower left corner (0.5, 0.2) and upper right corner (1.1, 2). "
   ]
  },
  {
   "cell_type": "code",
   "execution_count": 31,
   "id": "6831bfc9",
   "metadata": {},
   "outputs": [
    {
     "data": {
      "text/plain": [
       "False"
      ]
     },
     "execution_count": 31,
     "metadata": {},
     "output_type": "execute_result"
    }
   ],
   "source": [
    "inside(1,1,.3,.5,1.1,.7)"
   ]
  },
  {
   "cell_type": "code",
   "execution_count": 32,
   "id": "44650f94",
   "metadata": {},
   "outputs": [
    {
     "data": {
      "text/plain": [
       "True"
      ]
     },
     "execution_count": 32,
     "metadata": {},
     "output_type": "execute_result"
    }
   ],
   "source": [
    "inside(1,1,.5,.2,1.1,2)"
   ]
  },
  {
   "cell_type": "markdown",
   "id": "44edca34",
   "metadata": {},
   "source": [
    "# Question 6"
   ]
  },
  {
   "cell_type": "markdown",
   "id": "99fea499",
   "metadata": {},
   "source": [
    "## 16. You can turn a word into pig-Latin using the following two rules (simplified): • If the word starts with a consonant, move that letter to the end and append 'ay'. For example, 'happy' becomes 'appyhay' and 'pencil' becomes 'encilpay'. • If the word starts with a vowel, simply append 'way' to the end of the word. For example, 'enter' becomes 'enterway' and 'other' becomes 'otherway' . For our purposes, there are 5 vowels: a, e, i, o, u (so we count y as a consonant). Write a function pig() that takes a word (i.e., a string) as input and returns its pigLatin form. Your function should still work if the input word contains upper case characters. Your output should always be lower case however."
   ]
  },
  {
   "cell_type": "code",
   "execution_count": 33,
   "id": "4b6a9a56",
   "metadata": {},
   "outputs": [],
   "source": [
    "def pig(n):\n",
    "    n = n.lower()\n",
    "    if n[0] in ['a', 'e','i','o', 'u']:\n",
    "        print (n + 'way')\n",
    "    else: \n",
    "        print (n[1:] +n[0]+ 'ay')\n"
   ]
  },
  {
   "cell_type": "code",
   "execution_count": 34,
   "id": "69919c62",
   "metadata": {},
   "outputs": [
    {
     "name": "stdout",
     "output_type": "stream",
     "text": [
      "appyhay\n"
     ]
    }
   ],
   "source": [
    "pig('happy')"
   ]
  },
  {
   "cell_type": "code",
   "execution_count": 35,
   "id": "1f19075e",
   "metadata": {},
   "outputs": [
    {
     "name": "stdout",
     "output_type": "stream",
     "text": [
      "enterway\n"
     ]
    }
   ],
   "source": [
    "pig('Enter')\n"
   ]
  },
  {
   "cell_type": "markdown",
   "id": "96f3c50a",
   "metadata": {},
   "source": [
    "# Question 7"
   ]
  },
  {
   "cell_type": "markdown",
   "id": "ae6648c1",
   "metadata": {},
   "source": [
    "# File bloodtype1.txt records blood-types of patients (A, B, AB, O or OO) at a clinic. Write a function bldcount() that reads the file with name name and reports (i.e., prints) how many patients there are in each bloodtype.\n"
   ]
  },
  {
   "cell_type": "code",
   "execution_count": 43,
   "id": "00b130e1",
   "metadata": {},
   "outputs": [],
   "source": [
    "def bldcount(file):\n",
    "    new = []\n",
    "    inf = open(file, 'r')\n",
    "    ct = inf.read() \n",
    "    inf.close()\n",
    "    wl = ct.split() \n",
    "    for i in range (len(wl)):\n",
    "        if wl[i] not in new:\n",
    "            new.append(wl[i])   \n",
    "    for i in new:          \n",
    "            print ( ' There are {} patients with blood type {}'.format (wl.count(i),i))"
   ]
  },
  {
   "cell_type": "code",
   "execution_count": 44,
   "id": "ac2e3c27",
   "metadata": {},
   "outputs": [
    {
     "name": "stdout",
     "output_type": "stream",
     "text": [
      " There are 13 patients with blood type AB\n",
      " There are 1 patients with blood type B\n",
      " There are 15 patients with blood type O\n",
      " There are 15 patients with blood type A\n"
     ]
    }
   ],
   "source": [
    "bldcount(\"C://Users/om psyel/Downloads/bloodtype1.txt\")"
   ]
  },
  {
   "cell_type": "markdown",
   "id": "a439986d",
   "metadata": {},
   "source": [
    "# Question 8"
   ]
  },
  {
   "cell_type": "markdown",
   "id": "235dbc3a",
   "metadata": {},
   "source": [
    "## Write a function curconv() that takes as input: 1. a currency represented using a string (e.g., 'JPY' for the Japanese Yen or 'EUR' for the Euro) 2. an amount and then converts and returns the amount in US dollars.\n"
   ]
  },
  {
   "cell_type": "code",
   "execution_count": 40,
   "id": "c2394f87",
   "metadata": {},
   "outputs": [],
   "source": [
    "def curconv (curr,x):\n",
    "    \" A function that convert currencies based on a given table\"\n",
    "    with open (\"C://Users/om psyel/Downloads/currencies.txt\",\"r\") as file:\n",
    "        for line in file:\n",
    "            if curr in line:\n",
    "                y = line.split('\\t')\n",
    "                return float(y[1])*x"
   ]
  },
  {
   "cell_type": "code",
   "execution_count": 41,
   "id": "110206a9",
   "metadata": {},
   "outputs": [
    {
     "data": {
      "text/plain": [
       "122.96544"
      ]
     },
     "execution_count": 41,
     "metadata": {},
     "output_type": "execute_result"
    }
   ],
   "source": [
    "curconv('EUR', 100)"
   ]
  },
  {
   "cell_type": "code",
   "execution_count": 42,
   "id": "455efad6",
   "metadata": {},
   "outputs": [
    {
     "data": {
      "text/plain": [
       "1.241401"
      ]
     },
     "execution_count": 42,
     "metadata": {},
     "output_type": "execute_result"
    }
   ],
   "source": [
    "curconv('JPY', 100)\n"
   ]
  },
  {
   "cell_type": "markdown",
   "id": "53f223d7",
   "metadata": {},
   "source": [
    "# Question 9"
   ]
  },
  {
   "cell_type": "raw",
   "id": "9cc82170",
   "metadata": {},
   "source": [
    "Each of the following will cause an exception (an error). Identify what type of exception each will cause.\n",
    "Trying to add incompatible variables, as in adding 6 + ‘a’\n",
    "Answer: Type error - unsupported operand type(s) for +: 'int' and 'str'\n",
    "Referring to the 12th item of a list that has only 10 items\n",
    "Answer: IndexError: list index out of range\n",
    "Using a value that is out of range for a function’s input, such as calling math.sqrt( 1.0) -\n",
    "Answer: This function will return 1.0\n",
    "Using an undeclared variable, such as p rint(x) when x has not been defined -\n",
    "Answer : NameError: name 'x' is not defined\n",
    "Trying to open a file that does not exist, such as mistyping the file name or looking in the wrong directory.\n",
    "Answer: FileNotFoundError: [Errno 2] No such file or directory\n"
   ]
  },
  {
   "cell_type": "markdown",
   "id": "e4a861b0",
   "metadata": {},
   "source": [
    "# Question 10"
   ]
  },
  {
   "cell_type": "markdown",
   "id": "3549d10a",
   "metadata": {},
   "source": [
    "## Encryption is the process of hiding the meaning of a text by substituting letters in the message with other letters, according to some system. If the process is successful, no one but the intended recipient can understand the encrypted message. Cryptanalysis refers to attempts to undo the encryption, even if some details of the encryption are unknown (for example, if an encrypted message has been intercepted). The first step of cryptanalysis is often to build up a table of letter frequencies in the encrypted text. Assume that the string letters is already defined as 'abcdefghijklmnopqrstuvwxyz'. Write a function called frequencies() that takes a string as its only parameter, and returns a list of integers, showing the number of times each character appears in the text. Your function may ignore any characters that are not in letters. "
   ]
  },
  {
   "cell_type": "code",
   "execution_count": 45,
   "id": "8a20d9dc",
   "metadata": {},
   "outputs": [],
   "source": [
    "def frequencies(text):\n",
    "    letters = 'abcdefghijklmnopqrstuvwxyz'\n",
    "    newList = []\n",
    "    for i in range(len(letters)):\n",
    "        newList.append(text.count(letters[i]))\n",
    "    return newList\n"
   ]
  },
  {
   "cell_type": "code",
   "execution_count": 46,
   "id": "7ba650b8",
   "metadata": {},
   "outputs": [
    {
     "data": {
      "text/plain": [
       "[1, 1, 1, 3, 5, 1, 1, 2, 1, 0, 1, 0, 1, 2, 4, 0, 1, 2, 0, 2, 1, 0, 1, 1, 0, 0]"
      ]
     },
     "execution_count": 46,
     "metadata": {},
     "output_type": "execute_result"
    }
   ],
   "source": [
    "frequencies('The quick red fox got bored and went home.')\n"
   ]
  },
  {
   "cell_type": "code",
   "execution_count": 47,
   "id": "511e4638",
   "metadata": {},
   "outputs": [
    {
     "data": {
      "text/plain": [
       "[1, 0, 0, 0, 1, 0, 0, 0, 0, 0, 0, 1, 0, 0, 0, 2, 0, 0, 0, 0, 0, 0, 0, 0, 0, 0]"
      ]
     },
     "execution_count": 47,
     "metadata": {},
     "output_type": "execute_result"
    }
   ],
   "source": [
    "frequencies('apple')"
   ]
  }
 ],
 "metadata": {
  "kernelspec": {
   "display_name": "Python 3 (ipykernel)",
   "language": "python",
   "name": "python3"
  },
  "language_info": {
   "codemirror_mode": {
    "name": "ipython",
    "version": 3
   },
   "file_extension": ".py",
   "mimetype": "text/x-python",
   "name": "python",
   "nbconvert_exporter": "python",
   "pygments_lexer": "ipython3",
   "version": "3.10.4"
  }
 },
 "nbformat": 4,
 "nbformat_minor": 5
}
